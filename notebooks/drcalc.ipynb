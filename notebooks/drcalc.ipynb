{
 "cells": [
  {
   "cell_type": "code",
   "execution_count": 1,
   "metadata": {},
   "outputs": [
    {
     "name": "stdout",
     "output_type": "stream",
     "text": [
      "Recall: 0.9070572482936546\n",
      "F1-Score: 0.8815050303476409\n",
      "Accuracy: 0.9070572482936546\n",
      "Counter({'No': 281333, 'Yes': 24875})\n"
     ]
    },
    {
     "data": {
      "text/plain": [
       "['random_forest_model_HD.pkl']"
      ]
     },
     "execution_count": 1,
     "metadata": {},
     "output_type": "execute_result"
    }
   ],
   "source": [
    "import pandas as pd\n",
    "import joblib\n",
    "from sklearn.ensemble import RandomForestClassifier\n",
    "from sklearn.model_selection import train_test_split\n",
    "from sklearn.metrics import accuracy_score\n",
    "from sklearn.metrics import recall_score, f1_score\n",
    "from collections import Counter\n",
    "\n",
    "disease_data = pd.read_csv('../datasets/cs50fp_cd.csv')\n",
    "X = disease_data.drop(columns=['Heart_Disease', 'Cancer', 'Diabetes', 'Arthritis'])\n",
    "Y1 = disease_data['Heart_Disease']\n",
    "X_encoded = pd.get_dummies(X, columns=['Exercise', 'Sex', 'Age_Category', 'Height_(cm)', 'Weight_(kg)', 'Smoking_History', 'Alcohol Consumption'])\n",
    "\n",
    "X_train, X_test, Y_train, Y_test = train_test_split(X_encoded, Y1, test_size=0.2, random_state=42)\n",
    "\n",
    "model = RandomForestClassifier(n_estimators=100, random_state=42)\n",
    "model.fit(X_train, Y_train)\n",
    "\n",
    "predictions = model.predict(X_test)\n",
    "accuracy = accuracy_score(Y_test, predictions)\n",
    "recall = recall_score(Y_test, predictions, average='weighted')\n",
    "f1 = f1_score(Y_test, predictions, average='weighted')\n",
    "\n",
    "print(f\"Recall: {recall}\")\n",
    "print(f\"F1-Score: {f1}\")\n",
    "print(f\"Accuracy: {accuracy}\") \n",
    "\n",
    "class_distribution = Counter(Y1)\n",
    "print(class_distribution)\n",
    "\n",
    "joblib.dump(model, 'random_forest_model_HD.pkl')"
   ]
  },
  {
   "cell_type": "code",
   "execution_count": 2,
   "metadata": {},
   "outputs": [
    {
     "name": "stdout",
     "output_type": "stream",
     "text": [
      "Recall: 0.8052643610594037\n",
      "F1-Score: 0.7735396799911771\n",
      "Accuracy: 0.8052643610594037\n",
      "Counter({'No': 253614, 'Yes': 52594})\n"
     ]
    },
    {
     "data": {
      "text/plain": [
       "['random_forest_model_C.pkl']"
      ]
     },
     "execution_count": 2,
     "metadata": {},
     "output_type": "execute_result"
    }
   ],
   "source": [
    "import pandas as pd\n",
    "import joblib\n",
    "from sklearn.ensemble import RandomForestClassifier\n",
    "from sklearn.model_selection import train_test_split\n",
    "from sklearn.metrics import accuracy_score\n",
    "from sklearn.metrics import recall_score, f1_score\n",
    "from collections import Counter\n",
    "\n",
    "disease_data = pd.read_csv('../datasets/cs50fp_cd.csv')\n",
    "X = disease_data.drop(columns=['Heart_Disease', 'Cancer', 'Diabetes', 'Arthritis'])\n",
    "Y1 = disease_data['Cancer']\n",
    "X_encoded = pd.get_dummies(X, columns=['Exercise', 'Sex', 'Age_Category', 'Height_(cm)', 'Weight_(kg)', 'Smoking_History', 'Alcohol Consumption'])\n",
    "\n",
    "X_train, X_test, Y_train, Y_test = train_test_split(X_encoded, Y1, test_size=0.2, random_state=42)\n",
    "\n",
    "model = RandomForestClassifier(n_estimators=100, random_state=42)\n",
    "model.fit(X_train, Y_train)\n",
    "\n",
    "predictions = model.predict(X_test)\n",
    "accuracy = accuracy_score(Y_test, predictions)\n",
    "recall = recall_score(Y_test, predictions, average='weighted')\n",
    "f1 = f1_score(Y_test, predictions, average='weighted')\n",
    "\n",
    "print(f\"Recall: {recall}\")\n",
    "print(f\"F1-Score: {f1}\")\n",
    "print(f\"Accuracy: {accuracy}\") \n",
    "\n",
    "class_distribution = Counter(Y1)\n",
    "print(class_distribution)\n",
    "\n",
    "joblib.dump(model, 'random_forest_model_C.pkl')"
   ]
  },
  {
   "cell_type": "code",
   "execution_count": 3,
   "metadata": {},
   "outputs": [
    {
     "name": "stdout",
     "output_type": "stream",
     "text": [
      "Recall: 0.8236177786486398\n",
      "F1-Score: 0.7860824260633864\n",
      "Accuracy: 0.8236177786486398\n",
      "Counter({'No': 259141, 'Yes': 40171, 'Pre-diabetes': 6896})\n"
     ]
    },
    {
     "data": {
      "text/plain": [
       "['random_forest_model_D.pkl']"
      ]
     },
     "execution_count": 3,
     "metadata": {},
     "output_type": "execute_result"
    }
   ],
   "source": [
    "import pandas as pd\n",
    "import joblib\n",
    "from sklearn.ensemble import RandomForestClassifier\n",
    "from sklearn.model_selection import train_test_split\n",
    "from sklearn.metrics import accuracy_score\n",
    "from sklearn.metrics import recall_score, f1_score\n",
    "from collections import Counter\n",
    "\n",
    "disease_data = pd.read_csv('../datasets/cs50fp_cd.csv')\n",
    "X = disease_data.drop(columns=['Heart_Disease', 'Cancer', 'Diabetes', 'Arthritis'])\n",
    "Y1 = disease_data['Diabetes']\n",
    "X_encoded = pd.get_dummies(X, columns=['Exercise', 'Sex', 'Age_Category', 'Height_(cm)', 'Weight_(kg)', 'Smoking_History', 'Alcohol Consumption'])\n",
    "\n",
    "X_train, X_test, Y_train, Y_test = train_test_split(X_encoded, Y1, test_size=0.2, random_state=42)\n",
    "\n",
    "model = RandomForestClassifier(n_estimators=100, random_state=42)\n",
    "model.fit(X_train, Y_train)\n",
    "\n",
    "predictions = model.predict(X_test)\n",
    "accuracy = accuracy_score(Y_test, predictions)\n",
    "recall = recall_score(Y_test, predictions, average='weighted')\n",
    "f1 = f1_score(Y_test, predictions, average='weighted')\n",
    "\n",
    "print(f\"Recall: {recall}\")\n",
    "print(f\"F1-Score: {f1}\")\n",
    "print(f\"Accuracy: {accuracy}\") \n",
    "\n",
    "class_distribution = Counter(Y1)\n",
    "print(class_distribution)\n",
    "\n",
    "joblib.dump(model, 'random_forest_model_D.pkl')"
   ]
  },
  {
   "cell_type": "code",
   "execution_count": 4,
   "metadata": {},
   "outputs": [
    {
     "name": "stdout",
     "output_type": "stream",
     "text": [
      "Recall: 0.6821135821821626\n",
      "F1-Score: 0.6721475429450748\n",
      "Accuracy: 0.6821135821821626\n",
      "Counter({'No': 205851, 'Yes': 100357})\n"
     ]
    },
    {
     "data": {
      "text/plain": [
       "['random_forest_model_A.pkl']"
      ]
     },
     "execution_count": 4,
     "metadata": {},
     "output_type": "execute_result"
    }
   ],
   "source": [
    "import pandas as pd\n",
    "import joblib\n",
    "from sklearn.ensemble import RandomForestClassifier\n",
    "from sklearn.model_selection import train_test_split\n",
    "from sklearn.metrics import accuracy_score\n",
    "from sklearn.metrics import recall_score, f1_score\n",
    "from collections import Counter\n",
    "\n",
    "disease_data = pd.read_csv('../datasets/cs50fp_cd.csv')\n",
    "X = disease_data.drop(columns=['Heart_Disease', 'Cancer', 'Diabetes', 'Arthritis'])\n",
    "Y1 = disease_data['Arthritis']\n",
    "X_encoded = pd.get_dummies(X, columns=['Exercise', 'Sex', 'Age_Category', 'Height_(cm)', 'Weight_(kg)', 'Smoking_History', 'Alcohol Consumption'])\n",
    "\n",
    "X_train, X_test, Y_train, Y_test = train_test_split(X_encoded, Y1, test_size=0.2, random_state=42)\n",
    "\n",
    "model = RandomForestClassifier(n_estimators=100, random_state=42)\n",
    "model.fit(X_train, Y_train)\n",
    "\n",
    "predictions = model.predict(X_test)\n",
    "accuracy = accuracy_score(Y_test, predictions)\n",
    "recall = recall_score(Y_test, predictions, average='weighted')\n",
    "f1 = f1_score(Y_test, predictions, average='weighted')\n",
    "\n",
    "print(f\"Recall: {recall}\")\n",
    "print(f\"F1-Score: {f1}\")\n",
    "print(f\"Accuracy: {accuracy}\") \n",
    "\n",
    "class_distribution = Counter(Y1)\n",
    "print(class_distribution)\n",
    "\n",
    "joblib.dump(model, 'random_forest_model_A.pkl')"
   ]
  },
  {
   "cell_type": "code",
   "execution_count": 5,
   "metadata": {},
   "outputs": [
    {
     "data": {
      "text/html": [
       "<div>\n",
       "<style scoped>\n",
       "    .dataframe tbody tr th:only-of-type {\n",
       "        vertical-align: middle;\n",
       "    }\n",
       "\n",
       "    .dataframe tbody tr th {\n",
       "        vertical-align: top;\n",
       "    }\n",
       "\n",
       "    .dataframe thead th {\n",
       "        text-align: right;\n",
       "    }\n",
       "</style>\n",
       "<table border=\"1\" class=\"dataframe\">\n",
       "  <thead>\n",
       "    <tr style=\"text-align: right;\">\n",
       "      <th></th>\n",
       "      <th>Exercise</th>\n",
       "      <th>Sex</th>\n",
       "      <th>Age_Category</th>\n",
       "      <th>Height_(cm)</th>\n",
       "      <th>Weight_(kg)</th>\n",
       "      <th>Smoking_History</th>\n",
       "      <th>Alcohol Consumption</th>\n",
       "    </tr>\n",
       "  </thead>\n",
       "  <tbody>\n",
       "    <tr>\n",
       "      <th>0</th>\n",
       "      <td>No</td>\n",
       "      <td>Female</td>\n",
       "      <td>70-74</td>\n",
       "      <td>150</td>\n",
       "      <td>32.66</td>\n",
       "      <td>Yes</td>\n",
       "      <td>0-7</td>\n",
       "    </tr>\n",
       "    <tr>\n",
       "      <th>1</th>\n",
       "      <td>No</td>\n",
       "      <td>Female</td>\n",
       "      <td>70-74</td>\n",
       "      <td>165</td>\n",
       "      <td>77.11</td>\n",
       "      <td>No</td>\n",
       "      <td>0-7</td>\n",
       "    </tr>\n",
       "    <tr>\n",
       "      <th>2</th>\n",
       "      <td>Yes</td>\n",
       "      <td>Female</td>\n",
       "      <td>60-64</td>\n",
       "      <td>163</td>\n",
       "      <td>88.45</td>\n",
       "      <td>No</td>\n",
       "      <td>0-7</td>\n",
       "    </tr>\n",
       "    <tr>\n",
       "      <th>3</th>\n",
       "      <td>Yes</td>\n",
       "      <td>Male</td>\n",
       "      <td>75-79</td>\n",
       "      <td>180</td>\n",
       "      <td>93.44</td>\n",
       "      <td>No</td>\n",
       "      <td>0-7</td>\n",
       "    </tr>\n",
       "    <tr>\n",
       "      <th>4</th>\n",
       "      <td>No</td>\n",
       "      <td>Male</td>\n",
       "      <td>80+</td>\n",
       "      <td>191</td>\n",
       "      <td>88.45</td>\n",
       "      <td>Yes</td>\n",
       "      <td>0-7</td>\n",
       "    </tr>\n",
       "    <tr>\n",
       "      <th>...</th>\n",
       "      <td>...</td>\n",
       "      <td>...</td>\n",
       "      <td>...</td>\n",
       "      <td>...</td>\n",
       "      <td>...</td>\n",
       "      <td>...</td>\n",
       "      <td>...</td>\n",
       "    </tr>\n",
       "    <tr>\n",
       "      <th>306203</th>\n",
       "      <td>Yes</td>\n",
       "      <td>Male</td>\n",
       "      <td>55-59</td>\n",
       "      <td>168</td>\n",
       "      <td>58.97</td>\n",
       "      <td>No</td>\n",
       "      <td>0-7</td>\n",
       "    </tr>\n",
       "    <tr>\n",
       "      <th>306204</th>\n",
       "      <td>Yes</td>\n",
       "      <td>Male</td>\n",
       "      <td>25-29</td>\n",
       "      <td>168</td>\n",
       "      <td>81.65</td>\n",
       "      <td>No</td>\n",
       "      <td>0-7</td>\n",
       "    </tr>\n",
       "    <tr>\n",
       "      <th>306205</th>\n",
       "      <td>Yes</td>\n",
       "      <td>Male</td>\n",
       "      <td>65-69</td>\n",
       "      <td>180</td>\n",
       "      <td>69.85</td>\n",
       "      <td>No</td>\n",
       "      <td>8-14</td>\n",
       "    </tr>\n",
       "    <tr>\n",
       "      <th>306206</th>\n",
       "      <td>Yes</td>\n",
       "      <td>Male</td>\n",
       "      <td>65-69</td>\n",
       "      <td>183</td>\n",
       "      <td>79.38</td>\n",
       "      <td>No</td>\n",
       "      <td>0-7</td>\n",
       "    </tr>\n",
       "    <tr>\n",
       "      <th>306207</th>\n",
       "      <td>Yes</td>\n",
       "      <td>Female</td>\n",
       "      <td>45-49</td>\n",
       "      <td>160</td>\n",
       "      <td>81.19</td>\n",
       "      <td>No</td>\n",
       "      <td>0-7</td>\n",
       "    </tr>\n",
       "  </tbody>\n",
       "</table>\n",
       "<p>306208 rows × 7 columns</p>\n",
       "</div>"
      ],
      "text/plain": [
       "       Exercise     Sex Age_Category  Height_(cm)  Weight_(kg)  \\\n",
       "0            No  Female        70-74          150        32.66   \n",
       "1            No  Female        70-74          165        77.11   \n",
       "2           Yes  Female        60-64          163        88.45   \n",
       "3           Yes    Male        75-79          180        93.44   \n",
       "4            No    Male          80+          191        88.45   \n",
       "...         ...     ...          ...          ...          ...   \n",
       "306203      Yes    Male        55-59          168        58.97   \n",
       "306204      Yes    Male        25-29          168        81.65   \n",
       "306205      Yes    Male        65-69          180        69.85   \n",
       "306206      Yes    Male        65-69          183        79.38   \n",
       "306207      Yes  Female        45-49          160        81.19   \n",
       "\n",
       "       Smoking_History Alcohol Consumption  \n",
       "0                  Yes                 0-7  \n",
       "1                   No                 0-7  \n",
       "2                   No                 0-7  \n",
       "3                   No                 0-7  \n",
       "4                  Yes                 0-7  \n",
       "...                ...                 ...  \n",
       "306203              No                 0-7  \n",
       "306204              No                 0-7  \n",
       "306205              No                8-14  \n",
       "306206              No                 0-7  \n",
       "306207              No                 0-7  \n",
       "\n",
       "[306208 rows x 7 columns]"
      ]
     },
     "execution_count": 5,
     "metadata": {},
     "output_type": "execute_result"
    }
   ],
   "source": [
    "disease_data = pd.read_csv('../datasets/cs50fp_cd.csv')\n",
    "X = disease_data.drop(columns=['Heart_Disease', 'Cancer', 'Diabetes', 'Arthritis'])\n",
    "Y1 = disease_data['Arthritis']\n",
    "X"
   ]
  }
 ],
 "metadata": {
  "kernelspec": {
   "display_name": "ml_env",
   "language": "python",
   "name": "python3"
  },
  "language_info": {
   "codemirror_mode": {
    "name": "ipython",
    "version": 3
   },
   "file_extension": ".py",
   "mimetype": "text/x-python",
   "name": "python",
   "nbconvert_exporter": "python",
   "pygments_lexer": "ipython3",
   "version": "3.9.18"
  }
 },
 "nbformat": 4,
 "nbformat_minor": 2
}
