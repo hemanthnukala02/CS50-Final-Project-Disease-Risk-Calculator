{
 "cells": [
  {
   "cell_type": "code",
   "execution_count": 8,
   "metadata": {},
   "outputs": [
    {
     "name": "stdout",
     "output_type": "stream",
     "text": [
      "Recall: 0.9212034144630239\n",
      "F1-Score: 0.8834370301001205\n",
      "Accuracy: 0.9212034144630239\n",
      "Counter({'No': 275231, 'Yes': 24081})\n"
     ]
    },
    {
     "data": {
      "text/plain": [
       "['random_forest_model_HD.pkl']"
      ]
     },
     "execution_count": 8,
     "metadata": {},
     "output_type": "execute_result"
    }
   ],
   "source": [
    "import pandas as pd\n",
    "import joblib\n",
    "from sklearn.ensemble import RandomForestClassifier\n",
    "from sklearn.model_selection import train_test_split\n",
    "from sklearn.metrics import accuracy_score, recall_score, f1_score\n",
    "from collections import Counter\n",
    "\n",
    "disease_data = pd.read_csv('../datasets/diseaserisk_cd.csv')\n",
    "X = disease_data.drop(columns=['Heart_Disease', 'Cancer', 'Diabetes', 'Arthritis'])\n",
    "Y1 = disease_data['Heart_Disease']\n",
    "X_encoded = pd.get_dummies(X, columns=['Exercise', 'Sex', 'Age_Category', 'Smoking_History', 'Alcohol_Consumption'])\n",
    "\n",
    "X_train, X_test, Y_train, Y_test = train_test_split(X_encoded, Y1, test_size=0.2, random_state=42)\n",
    "\n",
    "class_weights = {'No': 1, 'Yes': 1}\n",
    "model = RandomForestClassifier(n_estimators=200, max_depth=10, min_samples_split=5, class_weight=class_weights, random_state=42)\n",
    "model.fit(X_train, Y_train)\n",
    "\n",
    "predictions = model.predict(X_test)\n",
    "accuracy = accuracy_score(Y_test, predictions)\n",
    "recall = recall_score(Y_test, predictions, average='weighted')\n",
    "f1 = f1_score(Y_test, predictions, average='weighted')\n",
    "\n",
    "print(f\"Recall: {recall}\")\n",
    "print(f\"F1-Score: {f1}\")\n",
    "print(f\"Accuracy: {accuracy}\") \n",
    "\n",
    "class_distribution = Counter(Y1)\n",
    "print(class_distribution)\n",
    "\n",
    "joblib.dump(model, 'random_forest_model_HD.pkl')"
   ]
  },
  {
   "cell_type": "code",
   "execution_count": 9,
   "metadata": {},
   "outputs": [
    {
     "name": "stdout",
     "output_type": "stream",
     "text": [
      "Recall: 0.8306967575965121\n",
      "F1-Score: 0.7829572591268751\n",
      "Accuracy: 0.8306967575965121\n",
      "Counter({'No': 248124, 'Yes': 51188})\n"
     ]
    },
    {
     "data": {
      "text/plain": [
       "['random_forest_model_C.pkl']"
      ]
     },
     "execution_count": 9,
     "metadata": {},
     "output_type": "execute_result"
    }
   ],
   "source": [
    "import pandas as pd\n",
    "import joblib\n",
    "from sklearn.ensemble import RandomForestClassifier\n",
    "from sklearn.model_selection import train_test_split\n",
    "from sklearn.metrics import accuracy_score, recall_score, f1_score\n",
    "from collections import Counter\n",
    "\n",
    "disease_data = pd.read_csv('../datasets/diseaserisk_cd.csv')\n",
    "X = disease_data.drop(columns=['Heart_Disease', 'Cancer', 'Diabetes', 'Arthritis'])\n",
    "Y1 = disease_data['Cancer']\n",
    "X_encoded = pd.get_dummies(X, columns=['Exercise', 'Sex', 'Age_Category', 'Smoking_History', 'Alcohol_Consumption'])\n",
    "\n",
    "X_train, X_test, Y_train, Y_test = train_test_split(X_encoded, Y1, test_size=0.2, random_state=42)\n",
    "\n",
    "class_weights = {'No': 1, 'Yes': 1.5}\n",
    "model = RandomForestClassifier(n_estimators=200, max_depth=10, min_samples_split=5, class_weight=class_weights, random_state=42)\n",
    "model.fit(X_train, Y_train)\n",
    "\n",
    "predictions = model.predict(X_test)\n",
    "accuracy = accuracy_score(Y_test, predictions)\n",
    "recall = recall_score(Y_test, predictions, average='weighted')\n",
    "f1 = f1_score(Y_test, predictions, average='weighted')\n",
    "\n",
    "print(f\"Recall: {recall}\")\n",
    "print(f\"F1-Score: {f1}\")\n",
    "print(f\"Accuracy: {accuracy}\") \n",
    "\n",
    "class_distribution = Counter(Y1)\n",
    "print(class_distribution)\n",
    "\n",
    "joblib.dump(model, 'random_forest_model_C.pkl')"
   ]
  },
  {
   "cell_type": "code",
   "execution_count": 10,
   "metadata": {},
   "outputs": [
    {
     "name": "stdout",
     "output_type": "stream",
     "text": [
      "Recall: 0.8510098057230677\n",
      "F1-Score: 0.8330210063995455\n",
      "Accuracy: 0.8510098057230677\n",
      "Counter({'No': 259141, 'Yes': 40171})\n"
     ]
    },
    {
     "data": {
      "text/plain": [
       "['random_forest_model_D.pkl']"
      ]
     },
     "execution_count": 10,
     "metadata": {},
     "output_type": "execute_result"
    }
   ],
   "source": [
    "import pandas as pd\n",
    "import joblib\n",
    "from sklearn.ensemble import RandomForestClassifier\n",
    "from sklearn.model_selection import train_test_split\n",
    "from sklearn.metrics import accuracy_score, recall_score, f1_score\n",
    "from collections import Counter\n",
    "\n",
    "disease_data = pd.read_csv('../datasets/diseaserisk_cd.csv')\n",
    "X = disease_data.drop(columns=['Heart_Disease', 'Cancer', 'Diabetes', 'Arthritis'])\n",
    "Y1 = disease_data['Diabetes']\n",
    "X_encoded = pd.get_dummies(X, columns=['Exercise', 'Sex', 'Age_Category', 'Smoking_History', 'Alcohol_Consumption'])\n",
    "\n",
    "X_train, X_test, Y_train, Y_test = train_test_split(X_encoded, Y1, test_size=0.2, random_state=42)\n",
    "\n",
    "class_weights = {'No': 1, 'Yes': 2.5}\n",
    "model = RandomForestClassifier(n_estimators=200, max_depth=10, min_samples_split=5, class_weight=class_weights, random_state=42)\n",
    "model.fit(X_train, Y_train)\n",
    "\n",
    "predictions = model.predict(X_test)\n",
    "accuracy = accuracy_score(Y_test, predictions)\n",
    "recall = recall_score(Y_test, predictions, average='weighted')\n",
    "f1 = f1_score(Y_test, predictions, average='weighted')\n",
    "\n",
    "print(f\"Recall: {recall}\")\n",
    "print(f\"F1-Score: {f1}\")\n",
    "print(f\"Accuracy: {accuracy}\") \n",
    "\n",
    "class_distribution = Counter(Y1)\n",
    "print(class_distribution)\n",
    "\n",
    "joblib.dump(model, 'random_forest_model_D.pkl')"
   ]
  },
  {
   "cell_type": "code",
   "execution_count": 11,
   "metadata": {},
   "outputs": [
    {
     "name": "stdout",
     "output_type": "stream",
     "text": [
      "Recall: 0.7011008469338322\n",
      "F1-Score: 0.7047558752603579\n",
      "Accuracy: 0.7011008469338322\n",
      "Counter({'No': 202066, 'Yes': 97246})\n"
     ]
    },
    {
     "data": {
      "text/plain": [
       "['encoded_columns.pkl']"
      ]
     },
     "execution_count": 11,
     "metadata": {},
     "output_type": "execute_result"
    }
   ],
   "source": [
    "import pandas as pd\n",
    "import joblib\n",
    "from sklearn.ensemble import RandomForestClassifier\n",
    "from sklearn.model_selection import train_test_split\n",
    "from sklearn.metrics import accuracy_score, recall_score, f1_score\n",
    "from collections import Counter\n",
    "\n",
    "disease_data = pd.read_csv('../datasets/diseaserisk_cd.csv')\n",
    "X = disease_data.drop(columns=['Heart_Disease', 'Cancer', 'Diabetes', 'Arthritis'])\n",
    "Y1 = disease_data['Arthritis']\n",
    "X_encoded = pd.get_dummies(X, columns=['Exercise', 'Sex', 'Age_Category', 'Smoking_History', 'Alcohol_Consumption'])\n",
    "encoded_columns = X_encoded.columns\n",
    "\n",
    "X_train, X_test, Y_train, Y_test = train_test_split(X_encoded, Y1, test_size=0.2, random_state=42)\n",
    "\n",
    "class_weights = {'No': 1, 'Yes': 1.5}\n",
    "model = RandomForestClassifier(n_estimators=200, max_depth=10, min_samples_split=5,class_weight=class_weights, random_state=42)\n",
    "model.fit(X_train, Y_train)\n",
    "\n",
    "predictions = model.predict(X_test)\n",
    "accuracy = accuracy_score(Y_test, predictions)\n",
    "recall = recall_score(Y_test, predictions, average='weighted')\n",
    "f1 = f1_score(Y_test, predictions, average='weighted')\n",
    "\n",
    "print(f\"Recall: {recall}\")\n",
    "print(f\"F1-Score: {f1}\")\n",
    "print(f\"Accuracy: {accuracy}\") \n",
    "\n",
    "class_distribution = Counter(Y1)\n",
    "print(class_distribution)\n",
    "\n",
    "joblib.dump(model, 'random_forest_model_A.pkl')\n",
    "joblib.dump(encoded_columns, 'encoded_columns.pkl')"
   ]
  }
 ],
 "metadata": {
  "kernelspec": {
   "display_name": "ml_env",
   "language": "python",
   "name": "python3"
  },
  "language_info": {
   "codemirror_mode": {
    "name": "ipython",
    "version": 3
   },
   "file_extension": ".py",
   "mimetype": "text/x-python",
   "name": "python",
   "nbconvert_exporter": "python",
   "pygments_lexer": "ipython3",
   "version": "3.9.18"
  }
 },
 "nbformat": 4,
 "nbformat_minor": 2
}
